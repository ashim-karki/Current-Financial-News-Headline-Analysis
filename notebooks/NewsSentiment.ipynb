{
 "cells": [
  {
   "cell_type": "code",
   "execution_count": 1,
   "metadata": {},
   "outputs": [
    {
     "name": "stderr",
     "output_type": "stream",
     "text": [
      "/Users/ashim_karki/miniforge3/envs/majorproject/lib/python3.12/site-packages/tqdm/auto.py:21: TqdmWarning: IProgress not found. Please update jupyter and ipywidgets. See https://ipywidgets.readthedocs.io/en/stable/user_install.html\n",
      "  from .autonotebook import tqdm as notebook_tqdm\n"
     ]
    }
   ],
   "source": [
    "import requests\n",
    "from bs4 import BeautifulSoup\n",
    "import pandas as pd\n",
    "import torch\n",
    "from transformers import BertTokenizer, BertForSequenceClassification\n",
    "\n",
    "# Search Query\n",
    "query = 'China economy'\n",
    "\n",
    "# This function encodes special characters in the query string to make it URL-safe\n",
    "def encode_special_characters(text):\n",
    "    encoded_text = ''\n",
    "    special_characters = {'&': '%26', '=': '%3D', '+': '%2B', ' ': '%20'}  # Add more special characters as needed\n",
    "    for char in text.lower():\n",
    "        encoded_text += special_characters.get(char, char)\n",
    "    return encoded_text\n",
    "\n",
    "# query2 is the URL-safe version of the query string\n",
    "query2 = encode_special_characters(query)\n",
    "url = f\"https://news.google.com/search?q={query2}&hl=en-US&gl=US&ceid=US%3Aen\"\n",
    "\n",
    "response = requests.get(url)\n",
    "soup = BeautifulSoup(response.text, 'html.parser')\n",
    "\n",
    "articles = soup.find_all('article')[:10] # Get the first 10 articles\n",
    "base_url = \"https://news.google.com\"\n",
    "links = [base_url + article.find('a')['href'][1:] for article in articles]  # Remove the leading '.' and append to base_url\n",
    "\n",
    "# Follow the redirect links to get the actual news website URLs\n",
    "actual_links = []\n",
    "for link in links:\n",
    "    response = requests.get(link)\n",
    "    actual_links.append(response.url)\n",
    "\n",
    "news_text = [article.get_text(separator='\\n') for article in articles]\n",
    "news_text_split = [text.split('\\n') for text in news_text]\n",
    "\n",
    "model = BertForSequenceClassification.from_pretrained(\"../models\")\n",
    "tokenizer = BertTokenizer.from_pretrained(\"../models\")\n",
    "\n",
    "device = torch.device(\"cuda\" if torch.cuda.is_available() else \"cpu\")\n",
    "\n",
    "model.to(device)\n",
    "model.eval()\n",
    "sentiments = []\n",
    "\n",
    "for text in news_text_split:\n",
    "    inputs = tokenizer(text[2], return_tensors=\"pt\", padding=True, truncation=True, max_length=128)\n",
    "    inputs = {key: val.to(device) for key, val in inputs.items()}\n",
    "    outputs = model(**inputs)\n",
    "    logits = outputs.logits\n",
    "    prediction = torch.argmax(logits, dim=1).item()\n",
    "    sentiment_re_mapping = {0 : 'positive', 1 : 'negative', 2 : 'neutral'}\n",
    "    sentiments.append(sentiment_re_mapping[prediction])\n",
    "\n",
    "news_df = pd.DataFrame({\n",
    "    'Title': [text[2] for text in news_text_split],\n",
    "    'Source': [text[0] for text in news_text_split],\n",
    "    'Sentiment': sentiments,\n",
    "    'Time': [text[3] if len(text) > 3 else 'Missing' for text in news_text_split],\n",
    "    'Author': [text[4].split('By ')[-1] if len(text) > 4 else 'Missing' for text in news_text_split],\n",
    "    'Link': actual_links\n",
    "})\n",
    "\n",
    "# Write to CSV\n",
    "news_df.to_csv('news2.csv', index=False)"
   ]
  },
  {
   "cell_type": "code",
   "execution_count": null,
   "metadata": {},
   "outputs": [],
   "source": []
  }
 ],
 "metadata": {
  "kernelspec": {
   "display_name": "majorproject",
   "language": "python",
   "name": "python3"
  },
  "language_info": {
   "codemirror_mode": {
    "name": "ipython",
    "version": 3
   },
   "file_extension": ".py",
   "mimetype": "text/x-python",
   "name": "python",
   "nbconvert_exporter": "python",
   "pygments_lexer": "ipython3",
   "version": "3.12.6"
  }
 },
 "nbformat": 4,
 "nbformat_minor": 2
}
